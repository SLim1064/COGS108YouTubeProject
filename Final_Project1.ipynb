{
  "nbformat": 4,
  "nbformat_minor": 0,
  "metadata": {
    "colab": {
      "name": "Final Project",
      "version": "0.3.2",
      "provenance": [],
      "include_colab_link": true
    },
    "kernelspec": {
      "name": "python3",
      "display_name": "Python 3"
    }
  },
  "cells": [
    {
      "cell_type": "markdown",
      "metadata": {
        "id": "view-in-github",
        "colab_type": "text"
      },
      "source": [
        "<a href=\"https://colab.research.google.com/github/dtn058/COGS108YouTubeProject/blob/master/Final_Project1.ipynb\" target=\"_parent\"><img src=\"https://colab.research.google.com/assets/colab-badge.svg\" alt=\"Open In Colab\"/></a>"
      ]
    },
    {
      "metadata": {
        "id": "2WdpPLpIa_4X",
        "colab_type": "text"
      },
      "cell_type": "markdown",
      "source": [
        "# COGS 108 - Final Project"
      ]
    },
    {
      "metadata": {
        "id": "tIfGncZKboNb",
        "colab_type": "text"
      },
      "cell_type": "markdown",
      "source": [
        "#Overview\n",
        "YouTube - What can a channel do to further increase their viewer, subscriber, and follow count? As such, we had questions like : \n",
        "* When publishing a video, what type of title is the best, and when should it be posted to ensure maximized number of views and increase of subscriber counter?\n",
        "* What forms of social media should the video be shared on in order to further increase viewer, subscriber, and follow count?\n",
        "* What length should videos be, in order to maximize ad revenue, viewer counts, likes, and subscribers, alongside promoting channel growth and generating profit?\n",
        "\n",
        "But this wasn’t as low-level as we’d like so in order to be more specific in our questions, we decided to narrow down on YouTube videos categorically. When sifting through the datasets, we found that many of these categories had many observations, though some were lacking in observations and interest. The category we chose, How-to and Style was enticing because it concerned itself with clickbait, creativity, and the creator’s skill.\n"
      ]
    }
  ]
}